{
 "cells": [
  {
   "cell_type": "code",
   "execution_count": null,
   "metadata": {
    "scrolled": true
   },
   "outputs": [],
   "source": [
    "!pip install - r requirements.txt\n",
    "#安裝顯示表格套件\n",
    "!pip install pandas"
   ]
  },
  {
   "cell_type": "code",
   "execution_count": null,
   "metadata": {},
   "outputs": [],
   "source": [
    "##API初始&登入\n",
    "import pfcf\n",
    "from pfcf.pfcf import *\n",
    "from pfcf.product import *\n",
    "from pfcf.trade.ddata import *\n",
    "from typing import List\n",
    "#匯入顯示資料套件\n",
    "import pandas as pd \n",
    "from IPython.display import display, clear_output\n",
    "pd.set_option('display.max_columns', None)\n",
    "pd.set_option('display.max_rows', None)\n",
    "pd.set_option('display.width', None)\n",
    "#初始API\n",
    "api = Pfcf()\n",
    "#錯誤事件處理\n",
    "api.on_error = lambda error: print(f'api錯誤 {error}')\n",
    "#系統登入\n",
    "loginresponse = api.login(\n",
    "    \"url\", \"帳號\", \"密碼\", '憑證檔名', '憑證密碼')#url,帳號,密碼,憑證檔名,憑證密碼\n",
    "#顯示登入結果\n",
    "print(loginresponse) \n",
    "print(f\"登入旗標{api.login_status_flag}\")\n",
    "print(f\"交易帳號{api.get_accounts()}\") "
   ]
  },
  {
   "cell_type": "code",
   "execution_count": null,
   "metadata": {},
   "outputs": [],
   "source": [
    "# 內期商品取得範例\n",
    "# 初始數據\n",
    "data = [['', '', '', '', '']]\n",
    "dd = pd.DataFrame(data)\n",
    "dd.columns = ['商品代號', '商品名稱', '股票代碼', '類別', '合約基數']\n",
    "domestic_products = api.get_domestic_products()\n",
    "i = 0\n",
    "for key, value in domestic_products.items():\n",
    "    print(data)\n",
    "    dd.loc[i, '商品代號'] = value.kind_id\n",
    "    dd.loc[i, '商品名稱'] = value.name\n",
    "    dd.loc[i, '股票代碼'] = value.stock_id\n",
    "    dd.loc[i, '類別'] = value.subtype\n",
    "    dd.loc[i, '合約基數'] = value.contract_size\n",
    "    i = i+1\n",
    "clear_output(wait=True)\n",
    "display(dd)\n"
   ]
  },
  {
   "cell_type": "code",
   "execution_count": null,
   "metadata": {},
   "outputs": [],
   "source": [
    "# 內期期貨合約取得範例  \n",
    "# 初始數據\n",
    "data = [['','','','','','','']]\n",
    "dd = pd.DataFrame(data)\n",
    "dd.columns = ['商品代號','年月','CP','履約價','漲停價','跌停價','參考價']\n",
    "query_response = api.get_domestic_contracts(\"TXF\",\"F\")#商品類別碼\n",
    "if query_response.ok == True:\n",
    "    i=0\n",
    "    for data in query_response.data:   \n",
    "        dd.loc[i,'商品代號']=data.prod_id\n",
    "        dd.loc[i,'年月']=data.month\n",
    "        dd.loc[i,'CP']=data.cp\n",
    "        dd.loc[i,'履約價']=data.stikeprice\n",
    "        dd.loc[i,'漲停價']=data.maxprice\n",
    "        dd.loc[i,'跌停價']=data.minprice\n",
    "        dd.loc[i,'參考價']=data.premium \n",
    "        i=i+1 \n",
    "    clear_output(wait=True)\n",
    "    display(dd)\n",
    "else:\n",
    "    print(query_response.error)\n"
   ]
  },
  {
   "cell_type": "code",
   "execution_count": null,
   "metadata": {},
   "outputs": [],
   "source": [
    "# 內期選擇權合約取得範例  \n",
    "# 初始數據\n",
    "data = [['','','','','','','']]\n",
    "dd = pd.DataFrame(data)\n",
    "dd.columns = ['商品代號','年月','CP','履約價','漲停價','跌停價','參考價']\n",
    "query_response = api.get_domestic_contracts(\"TXO\",\"O\")#商品類別碼\n",
    "if query_response.ok == True:\n",
    "    i=0\n",
    "    for data in query_response.data:   \n",
    "        dd.loc[i,'商品代號']=data.prod_id\n",
    "        dd.loc[i,'年月']=data.month\n",
    "        dd.loc[i,'CP']=data.cp\n",
    "        dd.loc[i,'履約價']=data.stikeprice\n",
    "        dd.loc[i,'漲停價']=data.maxprice\n",
    "        dd.loc[i,'跌停價']=data.minprice\n",
    "        dd.loc[i,'參考價']=data.premium \n",
    "        i=i+1 \n",
    "    clear_output(wait=True)\n",
    "    display(dd)\n",
    "else:\n",
    "    print(query_response.error)\n"
   ]
  },
  {
   "cell_type": "code",
   "execution_count": null,
   "metadata": {},
   "outputs": [],
   "source": [
    "# 外期交易所取得範例\n",
    "# 初始數據\n",
    "data = [['', '', '', '']]\n",
    "dd = pd.DataFrame(data)\n",
    "dd.columns = ['交易所', '中文名稱', '區域', '幣別']\n",
    "exchanges = api.get_exchanges()\n",
    "i = 0\n",
    "for key, value in exchanges.items():\n",
    "    print(data)\n",
    "    dd.loc[i, '交易所'] = value.exchange\n",
    "    dd.loc[i, '中文名稱'] = value.name\n",
    "    dd.loc[i, '區域'] = value.country\n",
    "    dd.loc[i, '幣別'] = value.currency \n",
    "    i = i+1\n",
    "clear_output(wait=True)\n",
    "display(dd) "
   ]
  },
  {
   "cell_type": "code",
   "execution_count": null,
   "metadata": {},
   "outputs": [],
   "source": [
    "# 外期商品取得範例\n",
    "# 初始數據\n",
    "data = [['', '', '', '', '', '', '']]\n",
    "dd = pd.DataFrame(data)\n",
    "dd.columns = ['交易所', '商品代碼', '類型(期貨:F 選擇權:O)','中文名稱','中文簡稱','區域', '幣別']\n",
    "foreign_products = api.get_foreign_products()\n",
    "i = 0\n",
    "for key, value in foreign_products.items():\n",
    "    print(data)\n",
    "    dd.loc[i, '交易所'] = value.exchange\n",
    "    dd.loc[i, '商品代碼'] = value.symbol\n",
    "    dd.loc[i, '類型(期貨:F 選擇權:O)'] = value.type\n",
    "    dd.loc[i, '中文名稱'] = value.name \n",
    "    dd.loc[i, '中文簡稱'] = value.shortname \n",
    "    dd.loc[i, '區域'] = value.country \n",
    "    dd.loc[i, '幣別'] = value.currency \n",
    "    i = i+1\n",
    "clear_output(wait=True)\n",
    "display(dd)  "
   ]
  },
  {
   "cell_type": "code",
   "execution_count": null,
   "metadata": {},
   "outputs": [],
   "source": [
    "# 外期商品取得範例\n",
    "# 初始數據\n",
    "data = [['', '', '', '', '', '', '']]\n",
    "dd = pd.DataFrame(data) \n",
    "dd.columns = ['交易所', '商品代碼', '類型(期貨:F 選擇權:O)','年月','履約價','call put', '最後交易日'] \n",
    "query_response =api.get_foreign_contracts(\"CME\",\"NQ\",\"F\")#交易所代碼,商品代碼,F:期貨O:選擇權\n",
    "if query_response.ok == True:\n",
    "    i=0\n",
    "    for data in query_response.data:   \n",
    "        dd.loc[i, '交易所'] = data.exchange\n",
    "        dd.loc[i, '商品代碼'] = data.symbol\n",
    "        dd.loc[i, '類型(期貨:F 選擇權:O)'] = data.type\n",
    "        dd.loc[i, '年月'] = data.monthyear \n",
    "        dd.loc[i, '履約價'] = data.strikeprice \n",
    "        dd.loc[i, 'call put'] = data.cp \n",
    "        dd.loc[i, '最後交易日'] = data.lasttradedate \n",
    "        i=i+1 \n",
    "    clear_output(wait=True)\n",
    "    display(dd)\n",
    "else:\n",
    "    print(query_response.error)"
   ]
  },
  {
   "cell_type": "code",
   "execution_count": null,
   "metadata": {
    "scrolled": true
   },
   "outputs": [],
   "source": [
    "#系統登出\n",
    "api.logout()\n",
    "print('登出完畢')\n",
    "print(f\"登入旗標{api.login_status_flag}\")\n"
   ]
  }
 ],
 "metadata": {
  "kernelspec": {
   "display_name": "Python 3 (ipykernel)",
   "language": "python",
   "name": "python3"
  },
  "language_info": {
   "codemirror_mode": {
    "name": "ipython",
    "version": 3
   },
   "file_extension": ".py",
   "mimetype": "text/x-python",
   "name": "python",
   "nbconvert_exporter": "python",
   "pygments_lexer": "ipython3",
   "version": "3.12.5"
  }
 },
 "nbformat": 4,
 "nbformat_minor": 2
}
