---
layout: default
title: 連線狀態範例
nav_order: 5
parent: begin
permalink: /begin/連線狀態範例
---
{
 "cells": [
  {
   "cell_type": "code",
   "execution_count": null,
   "metadata": {
    "scrolled": true
   },
   "outputs": [],
   "source": [
    "!pip install -r requirements.txt\n",
    "#安裝顯示表格套件\n",
    "!pip install plotly \n"
   ]
  },
  {
   "cell_type": "code",
   "execution_count": null,
   "metadata": {},
   "outputs": [],
   "source": [
    "##API初始&登入\n",
    "import pfcf\n",
    "from pfcf.pfcf import *\n",
    "from pfcf.product import *\n",
    "from pfcf.quote.fdata import *\n",
    "from typing import List \n",
    "#匯入顯示表格套件\n",
    "import plotly.graph_objs as go \n",
    "from plotly.offline import init_notebook_mode \n",
    "# 初始數據\n",
    "init_notebook_mode(connected=True) \n",
    "header1 = dict(values=['內期報價連線', '外期報價連線','內期交易連線', '外期交易連線','內期帳務連線', '外期帳務連線'])\n",
    "data1 = [['','','','','','' ]]  \n",
    "fig = go.FigureWidget(data=[go.Table( header=header1, cells=dict(values=list(zip(*data1)), align='left'),)])  \n",
    "fig.update_layout(height=100, margin=dict(t=0, b=0, l=0, r=0),autosize=True)    \n",
    "col_idx = {header: idx for idx, header in enumerate(header1['values'])} \n",
    "#初始API\n",
    "api = Pfcf()\n",
    "#錯誤事件處理\n",
    "api.on_error = lambda error: print(f'api錯誤 {error}') \n",
    "def api_dquote_on_connected(): \n",
    "    serverip,port =api.dquote.get_current_server() \n",
    "    cur = list(fig.data[0].cells.values)  \n",
    "    cur[col_idx['內期報價連線']] =f\"{serverip} {port} 已連線\" \n",
    "    with fig.batch_update():\n",
    "        fig.data[0].cells.values = cur   \n",
    "def api_fquote_on_connected(): \n",
    "    serverip,port =api.fquote.get_current_server() \n",
    "    cur = list(fig.data[0].cells.values)  \n",
    "    cur[col_idx['外期報價連線']] =f\"{serverip} {port} 已連線\" \n",
    "    with fig.batch_update():\n",
    "        fig.data[0].cells.values = cur         \n",
    "def api_dtrade_on_connected(): \n",
    "    serverip,port =api.dtrade.get_current_server() \n",
    "    cur = list(fig.data[0].cells.values)  \n",
    "    cur[col_idx['內期交易連線']] =f\"{serverip} {port} 已連線\" \n",
    "    with fig.batch_update():\n",
    "        fig.data[0].cells.values = cur   \n",
    "def api_ftrade_on_connected(): \n",
    "    serverip,port =api.ftrade.get_current_server() \n",
    "    cur = list(fig.data[0].cells.values)  \n",
    "    cur[col_idx['外期交易連線']] =f\"{serverip} {port} 已連線\" \n",
    "    with fig.batch_update():\n",
    "        fig.data[0].cells.values = cur          \n",
    "def api_daccount_on_connected(): \n",
    "    url =api.daccount.get_current_server() \n",
    "    cur = list(fig.data[0].cells.values)  \n",
    "    cur[col_idx['內期帳務連線']] =f\"{url} 已連線\" \n",
    "    with fig.batch_update():\n",
    "        fig.data[0].cells.values = cur   \n",
    "def api_faccount_on_connected(): \n",
    "    url =api.faccount.get_current_server() \n",
    "    cur = list(fig.data[0].cells.values)  \n",
    "    cur[col_idx['外期帳務連線']] =f\"{url} 已連線\" \n",
    "    with fig.batch_update():\n",
    "        fig.data[0].cells.values = cur      \n",
    "\n",
    "def api_dquote_on_disonnected():\n",
    "    serverip,port =api.dquote.get_current_server()  \n",
    "    cur = list(fig.data[0].cells.values)  \n",
    "    cur[col_idx['內期報價連線']] =f\"{serverip} {port} 斷線\" \n",
    "    with fig.batch_update():\n",
    "        fig.data[0].cells.values = cur   \n",
    "def api_fquote_on_disonnected(): \n",
    "    serverip,port =api.fquote.get_current_server()  \n",
    "    cur = list(fig.data[0].cells.values)  \n",
    "    cur[col_idx['外期報價連線']] =f\"{serverip} {port} 斷線\" \n",
    "    with fig.batch_update():\n",
    "        fig.data[0].cells.values = cur              \n",
    "def api_dtrade_on_disonnected(): \n",
    "    serverip,port =api.dtrade.get_current_server()  \n",
    "    cur = list(fig.data[0].cells.values)  \n",
    "    cur[col_idx['內期交易連線']] =f\"{serverip} {port} 斷線\" \n",
    "    with fig.batch_update():\n",
    "        fig.data[0].cells.values = cur   \n",
    "def api_ftrade_on_disonnected(): \n",
    "    serverip,port =api.ftrade.get_current_server()  \n",
    "    cur = list(fig.data[0].cells.values)  \n",
    "    cur[col_idx['外期交易連線']] =f\"{serverip} {port} 斷線\" \n",
    "    with fig.batch_update():\n",
    "        fig.data[0].cells.values = cur            \n",
    "def api_daccount_on_disonnected(): \n",
    "    url =api.daccount.get_current_server()  \n",
    "    cur = list(fig.data[0].cells.values)  \n",
    "    cur[col_idx['內期帳務連線']] =f\"{url} 斷線\" \n",
    "    with fig.batch_update():\n",
    "        fig.data[0].cells.values = cur   \n",
    "def api_faccount_on_disonnected(): \n",
    "    url =api.faccount.get_current_server()  \n",
    "    cur = list(fig.data[0].cells.values)  \n",
    "    cur[col_idx['外期帳務連線']] =f\"{url} 斷線\" \n",
    "    with fig.batch_update():\n",
    "        fig.data[0].cells.values = cur                               \n",
    "api.dquote.on_connected=api_dquote_on_connected\n",
    "api.fquote.on_connected=api_fquote_on_connected\n",
    "api.dtrade.on_connected=api_dtrade_on_connected\n",
    "api.ftrade.on_connected=api_ftrade_on_connected\n",
    "api.daccount.on_connected=api_daccount_on_connected\n",
    "api.faccount.on_connected=api_faccount_on_connected\n",
    "api.dquote.on_disonnected=api_dquote_on_disonnected\n",
    "api.fquote.on_disonnected=api_fquote_on_disonnected\n",
    "api.dtrade.on_disonnected=api_dtrade_on_disonnected\n",
    "api.ftrade.on_disonnected=api_ftrade_on_disonnected\n",
    "api.daccount.on_disonnected=api_daccount_on_disonnected\n",
    "api.faccount.on_disonnected=api_faccount_on_disonnected\n",
    "#系統登入\n",
    "loginresponse = api.login(\n",
    "    \"http://test167.pfctrade.com\", \"80009809769\", \"Aa123456\", 'PSC_A226097195_20250310.pfx', '12345678')#url,帳號,密碼,憑證檔名,憑證密碼\n",
    "#顯示登入結果\n",
    "print(loginresponse) \n",
    "print(f\"登入旗標{api.login_status_flag}\")\n",
    "print(f\"交易帳號{api.get_accounts()}\") \n",
    "\n",
    "display(fig)    \n"
   ]
  },
  {
   "cell_type": "code",
   "execution_count": null,
   "metadata": {},
   "outputs": [],
   "source": [
    "#取得內期報價連線\n",
    "print(api.dquote.get_server_list())"
   ]
  },
  {
   "cell_type": "code",
   "execution_count": null,
   "metadata": {},
   "outputs": [],
   "source": [
    "#切換內期報價連線\n",
    "api.dquote.set_severbyname(\"217\")"
   ]
  },
  {
   "cell_type": "code",
   "execution_count": null,
   "metadata": {},
   "outputs": [],
   "source": [
    "#取得外期報價連線\n",
    "print(api.fquote.get_server_list())"
   ]
  },
  {
   "cell_type": "code",
   "execution_count": null,
   "metadata": {},
   "outputs": [],
   "source": [
    "#切換外期報價連線\n",
    "api.fquote.set_severbyname(\"217\")"
   ]
  },
  {
   "cell_type": "code",
   "execution_count": null,
   "metadata": {},
   "outputs": [],
   "source": [
    "#取得內期交易連線\n",
    "print(api.dtrade.get_server_list())"
   ]
  },
  {
   "cell_type": "code",
   "execution_count": null,
   "metadata": {},
   "outputs": [],
   "source": [
    "#切換內期交易連線\n",
    "api.dtrade.set_severbyname(\"99167\")"
   ]
  },
  {
   "cell_type": "code",
   "execution_count": null,
   "metadata": {},
   "outputs": [],
   "source": [
    "#取得外期交易連線\n",
    "print(api.ftrade.get_server_list())"
   ]
  },
  {
   "cell_type": "code",
   "execution_count": null,
   "metadata": {},
   "outputs": [],
   "source": [
    "#切換外期交易連線\n",
    "api.ftrade.set_severbyname(\"141\")"
   ]
  },
  {
   "cell_type": "code",
   "execution_count": null,
   "metadata": {},
   "outputs": [],
   "source": [
    "#取得內期帳務連線\n",
    "print(api.daccount.get_server_list())"
   ]
  },
  {
   "cell_type": "code",
   "execution_count": null,
   "metadata": {},
   "outputs": [],
   "source": [
    "#切換內期帳務連線\n",
    "api.daccount.set_severbyname(\"209\")"
   ]
  },
  {
   "cell_type": "code",
   "execution_count": null,
   "metadata": {},
   "outputs": [],
   "source": [
    "#取得外期帳務連線\n",
    "print(api.faccount.get_server_list())"
   ]
  },
  {
   "cell_type": "code",
   "execution_count": null,
   "metadata": {},
   "outputs": [],
   "source": [
    "#切換外期帳務連線\n",
    "api.faccount.set_severbyname(\"141\")"
   ]
  },
  {
   "cell_type": "code",
   "execution_count": null,
   "metadata": {
    "scrolled": true
   },
   "outputs": [],
   "source": [
    "#系統登出\n",
    "api.logout()\n",
    "print('登出完畢')\n",
    "print(f\"登入旗標{api.login_status_flag}\")\n"
   ]
  }
 ],
 "metadata": {
  "kernelspec": {
   "display_name": "Python 3 (ipykernel)",
   "language": "python",
   "name": "python3"
  },
  "language_info": {
   "codemirror_mode": {
    "name": "ipython",
    "version": 3
   },
   "file_extension": ".py",
   "mimetype": "text/x-python",
   "name": "python",
   "nbconvert_exporter": "python",
   "pygments_lexer": "ipython3",
   "version": "3.12.4"
  }
 },
 "nbformat": 4,
 "nbformat_minor": 2
}
